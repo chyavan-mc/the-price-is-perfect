{
 "cells": [
  {
   "cell_type": "markdown",
   "metadata": {},
   "source": [
    "## Imports Required"
   ]
  },
  {
   "cell_type": "code",
   "execution_count": 1,
   "metadata": {},
   "outputs": [],
   "source": [
    "import pickle\n",
    "from os.path import exists\n",
    "import numpy as np\n",
    "import pandas as pd\n",
    "import matplotlib.pyplot as plt\n",
    "from scipy.stats import binom\n",
    "from mpl_toolkits.mplot3d import Axes3D\n",
    "import warnings\n",
    "warnings.filterwarnings('ignore')\n",
    "%matplotlib inline"
   ]
  },
  {
   "cell_type": "markdown",
   "metadata": {},
   "source": [
    "## Solver Class"
   ]
  },
  {
   "cell_type": "code",
   "execution_count": 2,
   "metadata": {},
   "outputs": [],
   "source": [
    "class FlightTicketPriceOptimizer:\n",
    "    def __init__(self, param = None):\n",
    "        self.parameter_template = {\n",
    "            \"price_coach_low\": { \"dtype\": float, \"prompt\": \"Coach lower ticket price\"},\n",
    "            \"price_coach_high\": { \"dtype\": float, \"prompt\": \"Coach higher ticket price\"},\n",
    "            \"price_fclass_low\": { \"dtype\": float, \"prompt\": \"First class lower ticket price\"},\n",
    "            \"price_fclass_high\": { \"dtype\": float, \"prompt\": \"First class lower ticket price\"},\n",
    "            \"booking_proba_coach_lowpr\": { \"dtype\": float, \"prompt\": \"Probability of booking for coach at lower price\"},\n",
    "            \"booking_proba_coach_highpr\": { \"dtype\": float, \"prompt\": \"Probability of booking for coach at higher price\"},\n",
    "            \"booking_proba_fclass_lowpr\": { \"dtype\": float, \"prompt\": \"Probability of booking for first class at lower price\"},\n",
    "            \"booking_proba_fclass_highpr\": { \"dtype\": float, \"prompt\": \"Probability of booking for first class at higher price\"},\n",
    "            \"prob_change_on_fclass_sold\": { \"dtype\": float, \"prompt\": \"Change in coach probability when first class is sold out\"},\n",
    "            \"cost_of_bumping\": { \"dtype\": float, \"prompt\": \"Cost of bumping passenger to first class\"},\n",
    "            \"cost_of_stipend\": { \"dtype\": float, \"prompt\": \"Cost of bumping passenger off the plane\"},\n",
    "            \"discount\": { \"dtype\": float, \"prompt\": \"Annual Discount rate (as decimal)\"},\n",
    "            \"proba_coach_showing_up\": { \"dtype\": float, \"prompt\": \"Probability of coach passenger showing up\"},\n",
    "            \"proba_fclass_showing_up\": { \"dtype\": float, \"prompt\": \"Probability of first class passenger showing up\"},\n",
    "            \"n_seats_coach\": { \"dtype\": int, \"prompt\": \"Number of seats in coach\"},\n",
    "            \"n_seats_fclass\": { \"dtype\": int, \"prompt\": \"Number of seats in first class\"},\n",
    "            \"overbook_limit\": { \"dtype\": int, \"prompt\": \"Allowed overbooking limit\"},\n",
    "            \"days_left\": { \"dtype\": int, \"prompt\": \"Days left until departure\"},\n",
    "            \"block_bookings\": { \"dtype\": int, \"prompt\": \"Enable booking blocker option? (1 for Yes, 0 for No)\"},\n",
    "        }\n",
    "\n",
    "        self.solved = False\n",
    "        self.U = None\n",
    "        self.V = None\n",
    "\n",
    "        if type(param) != type(None):\n",
    "            self.set_parameters(param)\n",
    "\n",
    "    def get_parameter_template(self):\n",
    "        \"\"\"\n",
    "        Returns a parameter template that the user has to replace with the parameter values and `set_parameters` for the problem\n",
    "        \"\"\"\n",
    "        return self.parameter_template\n",
    "    \n",
    "    def set_parameters(self, param: dict):\n",
    "        \"\"\"\n",
    "        A function that sets (and calculates) any initial parameters required for solving the ticket pricing problem\n",
    "\n",
    "        param: Parameters required (having the same structure as of the parameter template) for the problem\n",
    "        \"\"\"\n",
    "\n",
    "        # Verify the structure matches the template\n",
    "        for key in param.keys():\n",
    "            assert key in self.parameter_template.keys()\n",
    "\n",
    "        for key in self.parameter_template.keys():\n",
    "            assert key in param.keys()\n",
    "        \n",
    "        # Set all class variable values that the user has provided as parameters\n",
    "        for key in param.keys():\n",
    "            setattr(self, key, param[key])\n",
    "\n",
    "        # Calculate other values required for solving the problem\n",
    "        self.price_coach = [self.price_coach_low, self.price_coach_high]\n",
    "        self.price_fclass = [self.price_fclass_low, self.price_fclass_high]\n",
    "\n",
    "        self.prob_coach = [self.booking_proba_coach_lowpr, self.booking_proba_coach_highpr]\n",
    "        self.prob_fclass = [self.booking_proba_fclass_lowpr, self.booking_proba_fclass_highpr]\n",
    "        self.prob_coach_fsold = [x + self.prob_change_on_fclass_sold for x in self.prob_coach]\n",
    "        \n",
    "        self.delta = 1/(1+(self.discount/365))\n",
    "        self.seats_coach_eff = self.n_seats_coach + self.overbook_limit\n",
    "\n",
    "        self.s1N = self.n_seats_fclass+1\n",
    "        self.s2N = self.seats_coach_eff+1\n",
    "        self.tN = self.days_left+1\n",
    "\n",
    "        # Initialize the values of V and U arrays with their default values\n",
    "        self.V = np.zeros((self.s1N, self.s2N, self.tN))\n",
    "        self.U = np.array([[['#000000AA']*self.tN]*self.s2N]*self.s1N)\n",
    "\n",
    "    def calculate_initial_conditions(self):\n",
    "        \"\"\"\n",
    "        Calculate the initial conditions for V by calculating the expected costs from the overbooking for the day of departure\n",
    "        \"\"\"\n",
    "        for s1 in range(self.s1N):\n",
    "            for s2 in range(self.s2N):\n",
    "                self.V[s1, s2, self.tN-1] = -self.__expected_cost__(self.n_seats_fclass-s1, self.seats_coach_eff-s2)\n",
    "\n",
    "    def calculate_values(self):\n",
    "        \"\"\"\n",
    "        Backtrack from the final day to the initial day and calculate the value functions,\n",
    "            and corresponding `best actions` to take encoded as a hex color (for the purpose of plotting)\n",
    "        \"\"\"\n",
    "        \n",
    "        for t in reversed(range(self.tN-1)):\n",
    "            for s1 in range(self.s1N):\n",
    "                for s2 in range(self.s2N):\n",
    "                    if s1 == 0 and s2 == 0:\n",
    "                        self.V[s1, s2, t] = self.delta*self.V[s1, s2, t+1]\n",
    "                    else:\n",
    "                        # Set effective probabilities of sale as 0 if the tickets are sold out for the particular class or\n",
    "                        #   set the effective probability of sale for the coach class to the higher value if first class is sold out\n",
    "                        #   ** Add an extra 0 at the end of coach probabilities to consider the case of \"blocking\" a sale by forcing demand to 0\n",
    "                        prob_coach_eff = self.prob_coach if s1 != 0 else self.prob_coach_fsold\n",
    "                        prob_fclass_eff = self.prob_fclass if s1 != 0 else [0, 0]\n",
    "                        prob_coach_eff = prob_coach_eff + [0] if s2 != 0 else [0, 0, 0]\n",
    "                        \n",
    "                        # 6 possible decisions can be made at each time period\n",
    "                        #   giving us 6 possible value functions if those decisions are made\n",
    "                        # values[0] -> Sell Coach at High price,  Fclass High price     [x1, x2] --> [1, 1]\n",
    "                        # values[1] -> Sell Coach at High price,  Fclass Low price      [x1, x2] --> [1, 0]\n",
    "                        # values[2] -> Sell Coach at Low price,   Fclass High price     [x1, x2] --> [0, 1]\n",
    "                        # values[3] -> Sell Coach at Low price,   Fclass Low price      [x1, x2] --> [0, 0]\n",
    "                        # values[4] -> Block the sale of Coach,   Fclass High price     [x1, x2] --> [2, 1]    -- If block_bookings is 1\n",
    "                        # values[5] -> Block the sale of Coach,   Fclass Low price      [x1, x2] --> [2, 0]    -- If block_bookings is 1\n",
    "\n",
    "                        values = list()\n",
    "                        for x1 in range(1,-1-self.block_bookings,-1):\n",
    "                            for x2 in range(1,-1,-1):\n",
    "                                value = self.price_coach[x1]*prob_coach_eff[x1] + self.price_fclass[x2]*prob_fclass_eff[x2] + self.delta*(\n",
    "                                    prob_coach_eff[x1]*prob_fclass_eff[x2]*self.V[max(s1-1, 0), max(s2-1,0), t+1] + \\\n",
    "                                    prob_coach_eff[x1]*(1-prob_fclass_eff[x2])*self.V[s1, max(s2-1,0), t+1] + \\\n",
    "                                    (1-prob_coach_eff[x1])*prob_fclass_eff[x2]*self.V[max(s1-1, 0), s2, t+1] + \\\n",
    "                                    (1-prob_coach_eff[x1])*(1-prob_fclass_eff[x2])*self.V[s1, s2, t+1]\n",
    "                                )\n",
    "                                values.append(value)\n",
    "\n",
    "                        # Choose the best value function\n",
    "                        self.V[s1, s2, t] = max(values)\n",
    "\n",
    "                        # Choose the decision that gives the best value function\n",
    "                        tmp = np.argmax(values)\n",
    "                        rgb = [0,0,0]\n",
    "                        \n",
    "                        if s1:  # Set the green pixel intensity based on Fclass price - 255 for high price, 127 for low price\n",
    "                            rgb[1] = ((int(tmp == 0 or tmp == 2 or tmp == 4) + 1)*128)-1\n",
    "                        \n",
    "                        if s2:  # Set the blue (Red if sale is blocked) pixel intensity based on coach price - 255 for high price, 127 for low price\n",
    "                            rgb[2] = ((int(tmp == 0 or tmp == 1) + 1)*128)-1\n",
    "                            rgb[0] = int(tmp == 4 or tmp == 5)*127\n",
    "\n",
    "                        self.U[s1, s2, t] = self.__rgb_to_hex__(tuple(rgb))\n",
    "        self.solved = True\n",
    "\n",
    "    def get_solution(self):\n",
    "        \"\"\"\n",
    "        Returns the value function matrix `V`, and the optimal decision matrix `U` [If the problem has been solved]\n",
    "        \"\"\"\n",
    "        assert self.solved\n",
    "        return self.V, self.U\n",
    "    \n",
    "    def __cost_if__(self, fclass_show, coach_show):\n",
    "        \"\"\"\n",
    "        Calculate the cost if exactly\n",
    "        \n",
    "        fclass_show:    number of people show up for the first class\n",
    "        coach_show:     number of people show up for the Coach class\n",
    "        \"\"\"\n",
    "        cost = 0\n",
    "        f_class_free_seats = self.n_seats_fclass - fclass_show\n",
    "        assert f_class_free_seats >= 0\n",
    "\n",
    "        stipend_customers = max(0, coach_show - self.n_seats_coach)\n",
    "        assert stipend_customers >= 0\n",
    "\n",
    "        if stipend_customers == 0:\n",
    "            return 0\n",
    "        if stipend_customers < f_class_free_seats:\n",
    "            return stipend_customers*self.cost_of_bumping\n",
    "        return f_class_free_seats*self.cost_of_bumping + (stipend_customers-f_class_free_seats)*self.cost_of_stipend\n",
    "\n",
    "    def __expected_cost__(self, fclass_booked, coach_booked):\n",
    "        \"\"\"\n",
    "        Calculate the expected cost if\n",
    "\n",
    "        fclass_booked:  number of people have booked the First class ticket\n",
    "        coach_booked:   number of people have booked the Coach ticket\n",
    "        \"\"\"\n",
    "        cost = 0\n",
    "        bin_prob_fclass = binom(fclass_booked, self.proba_fclass_showing_up)\n",
    "        bin_prob_coach = binom(coach_booked, self.proba_coach_showing_up)\n",
    "        for f in range(fclass_booked+1):\n",
    "            for c in range(coach_booked+1):\n",
    "                cost += bin_prob_coach.pmf(c)*bin_prob_fclass.pmf(f)*self.__cost_if__(f, c)\n",
    "        return cost\n",
    "    \n",
    "    def __rgb_to_hex__(self, rgb):\n",
    "        \"\"\"\n",
    "        Calculate the hexcode given the RGB tuple and return the hexcode (at 50% opacity)\n",
    "        \n",
    "        rgb: the RGB tuple with values ranging from 0 to 255\n",
    "        \"\"\"\n",
    "        return '#%02x%02x%02xAA' % rgb\n",
    "    \n",
    "    def plot_decisions(self):\n",
    "        fig = plt.figure(figsize=(10,10))\n",
    "        ax = fig.gca(projection='3d', adjustable='box')\n",
    "        ax.set_xlabel(\"FC_sold\")\n",
    "        ax.set_ylabel(\"Coach_sold\")\n",
    "        ax.set_zlabel(\"Time\")\n",
    "        ax.grid(False)\n",
    "        ax.voxels(np.ones(self.U.shape), facecolors=self.U, shade=False)\n",
    "        ax.set_box_aspect([1,1,1])\n",
    "        limits = np.array([\n",
    "            ax.get_xlim3d(),\n",
    "            ax.get_ylim3d(),\n",
    "            ax.get_zlim3d(),\n",
    "        ])\n",
    "        origin = np.mean(limits, axis=1)\n",
    "        radius = 0.5 * np.max(np.abs(limits[:, 1] - limits[:, 0]))\n",
    "        x, y, z = origin\n",
    "        ax.set_xlim3d([x - radius, x + radius])\n",
    "        ax.set_ylim3d([y - radius, y + radius])\n",
    "        ax.set_zlim3d([z - radius, z + radius])\n",
    "        plt.show()\n",
    "        \n",
    "    def simulate_day(self, fc_state, coach_state, t):\n",
    "        fc_price, fc_prob, coach_price, coach_prob = self.make_decision(fc_state, coach_state, t)\n",
    "\n",
    "        # Simulate a sale/no-sale\n",
    "        fc_sale = int(np.random.random(1) < fc_prob)\n",
    "        coach_sale = int(np.random.random(1) < coach_prob)\n",
    "\n",
    "        # Calculate the profit/cost\n",
    "        if t == self.tN-1:\n",
    "            fc_shows = np.random.binomial(self.n_seats_fclass-fc_state, self.proba_fclass_showing_up)\n",
    "            coach_shows = np.random.binomial(self.seats_coach_eff-coach_state, self.proba_coach_showing_up)\n",
    "            discounted_val_today = -self.__cost_if__(fc_shows, coach_shows)*(self.delta**t)\n",
    "        else:\n",
    "            rev_today = fc_sale*fc_price + coach_sale*coach_price\n",
    "            discounted_val_today = rev_today*(self.delta**t)\n",
    "\n",
    "        return fc_price, fc_sale, coach_price, coach_sale, discounted_val_today\n",
    "    \n",
    "    def make_decision(self, fc_state, coach_state, t):\n",
    "        color = self.U[fc_state, coach_state, t]\n",
    "\n",
    "        prob_coach_eff = self.prob_coach if fc_state != 0 else self.prob_coach_fsold\n",
    "        prob_fclass_eff = self.prob_fclass\n",
    "        \n",
    "        fc_idx = None\n",
    "        coach_idx = None\n",
    "        \n",
    "        # Set coach probability and price\n",
    "        if color[5:7] == 'ff':     # Sell Coach at High price\n",
    "            coach_idx = 1\n",
    "        elif color[5:7] == '7f':   # Sell Coach at Low price\n",
    "            coach_idx = 0\n",
    "        elif color[5:7] == '00':   # Sold out of Coach seats\n",
    "            coach_idx = -1\n",
    "        if color[1:3] == '7f':     # Override to set `No Sale` **\n",
    "            coach_idx = -1\n",
    "        \n",
    "        # Set First class probability and price\n",
    "        if color[3:5] == 'ff':     # Sell first class at High price\n",
    "            fc_idx = 1\n",
    "        elif color[3:5] == '7f':   # Sell first class at High price\n",
    "            fc_idx = 0\n",
    "        elif color[3:5] == '00':   # Sold out of First class seats\n",
    "            fc_idx = -1\n",
    "\n",
    "        assert type(fc_idx) != type(None) and type(coach_idx) != type(None)\n",
    "        return  0 if fc_idx == -1 else self.price_fclass[fc_idx], \\\n",
    "                0 if fc_idx == -1 else prob_fclass_eff[fc_idx], \\\n",
    "                0 if coach_idx == -1 else self.price_coach[coach_idx], \\\n",
    "                0 if coach_idx == -1 else prob_coach_eff[coach_idx]"
   ]
  },
  {
   "cell_type": "markdown",
   "metadata": {
    "jp-MarkdownHeadingCollapsed": true,
    "tags": []
   },
   "source": [
    "## Part-1"
   ]
  },
  {
   "cell_type": "code",
   "execution_count": 3,
   "metadata": {},
   "outputs": [
    {
     "name": "stdin",
     "output_type": "stream",
     "text": [
      "Coach lower ticket price:\t 300\n",
      "Coach higher ticket price:\t 325\n",
      "First class lower ticket price:\t 425\n",
      "First class lower ticket price:\t 500\n",
      "Probability of booking for coach at lower price:\t 0.65\n",
      "Probability of booking for coach at higher price:\t 0.30\n",
      "Probability of booking for first class at lower price:\t 0.08\n",
      "Probability of booking for first class at higher price:\t 0.04\n",
      "Change in coach probability when first class is sold out:\t 0.03\n",
      "Cost of bumping passenger to first class:\t 50\n",
      "Cost of bumping passenger off the plane:\t 425\n",
      "Annual Discount rate (as decimal):\t 0.17\n",
      "Probability of coach passenger showing up:\t 0.95\n",
      "Probability of first class passenger showing up:\t 0.97\n",
      "Number of seats in coach:\t 100\n",
      "Number of seats in first class:\t 20\n",
      "Allowed overbooking limit:\t 5\n",
      "Days left until departure:\t 365\n",
      "Enable booking blocker option? (1 for Yes, 0 for No):\t 0\n"
     ]
    }
   ],
   "source": [
    "# Option 1: Create an empty object FlightTicketPriceOptimizer and get user input (from console) for each parameter\n",
    "ft = FlightTicketPriceOptimizer()\n",
    "\n",
    "param_template = ft.get_parameter_template()\n",
    "for param in param_template.keys():\n",
    "    ip = input(f\"{param_template[param]['prompt']}:\\t\")\n",
    "    ip = param_template[param]['dtype'](ip)\n",
    "    param_template[param] = ip\n",
    "\n",
    "ft.set_parameters(param_template)"
   ]
  },
  {
   "cell_type": "code",
   "execution_count": 4,
   "metadata": {},
   "outputs": [],
   "source": [
    "# Option 2: Create an object FlightTicketPriceOptimizer by passing the parameters if the dictionary structure is already known\n",
    "ft = FlightTicketPriceOptimizer({'price_coach_low': 300.0,\n",
    "    'price_coach_high': 350.0,\n",
    "    'price_fclass_low': 425.0,\n",
    "    'price_fclass_high': 500.0,\n",
    "    'booking_proba_coach_lowpr': 0.65,\n",
    "    'booking_proba_coach_highpr': 0.3,\n",
    "    'booking_proba_fclass_lowpr': 0.08,\n",
    "    'booking_proba_fclass_highpr': 0.04,\n",
    "    'prob_change_on_fclass_sold': 0.03,\n",
    "    'cost_of_bumping': 50.0,\n",
    "    'cost_of_stipend': 425.0,\n",
    "    'discount': 0.17,\n",
    "    'proba_coach_showing_up': 0.95,\n",
    "    'proba_fclass_showing_up': 0.97,\n",
    "    'n_seats_coach': 100,\n",
    "    'n_seats_fclass': 20,\n",
    "    'overbook_limit': 5,\n",
    "    'days_left': 365,\n",
    "    'block_bookings': 0\n",
    "})"
   ]
  },
  {
   "cell_type": "code",
   "execution_count": 5,
   "metadata": {},
   "outputs": [],
   "source": [
    "ft.calculate_initial_conditions()\n",
    "ft.calculate_values()"
   ]
  },
  {
   "cell_type": "code",
   "execution_count": 6,
   "metadata": {},
   "outputs": [
    {
     "data": {
      "text/plain": [
       "41886.158624195894"
      ]
     },
     "execution_count": 6,
     "metadata": {},
     "output_type": "execute_result"
    }
   ],
   "source": [
    "ft.V[-1, -1, 0]"
   ]
  },
  {
   "cell_type": "code",
   "execution_count": 7,
   "metadata": {},
   "outputs": [
    {
     "data": {
      "image/png": "[encoded data removed]",
      "text/plain": [
       "<Figure size 720x720 with 1 Axes>"
      ]
     },
     "metadata": {
      "needs_background": "light"
     },
     "output_type": "display_data"
    }
   ],
   "source": [
    "ft.plot_decisions()"
   ]
  },
  {
   "cell_type": "markdown",
   "metadata": {
    "tags": []
   },
   "source": [
    "## Part-2"
   ]
  },
  {
   "cell_type": "code",
   "execution_count": 8,
   "metadata": {},
   "outputs": [
    {
     "data": {
      "text/html": [
       "<div>\n",
       "<style scoped>\n",
       "    .dataframe tbody tr th:only-of-type {\n",
       "        vertical-align: middle;\n",
       "    }\n",
       "\n",
       "    .dataframe tbody tr th {\n",
       "        vertical-align: top;\n",
       "    }\n",
       "\n",
       "    .dataframe thead th {\n",
       "        text-align: right;\n",
       "    }\n",
       "</style>\n",
       "<table border=\"1\" class=\"dataframe\">\n",
       "  <thead>\n",
       "    <tr style=\"text-align: right;\">\n",
       "      <th></th>\n",
       "      <th>Overbooking</th>\n",
       "      <th>Max_expected_profit</th>\n",
       "    </tr>\n",
       "  </thead>\n",
       "  <tbody>\n",
       "    <tr>\n",
       "      <th>0</th>\n",
       "      <td>0</td>\n",
       "      <td>40654.294288</td>\n",
       "    </tr>\n",
       "    <tr>\n",
       "      <th>1</th>\n",
       "      <td>1</td>\n",
       "      <td>40942.071301</td>\n",
       "    </tr>\n",
       "    <tr>\n",
       "      <th>2</th>\n",
       "      <td>2</td>\n",
       "      <td>41221.454999</td>\n",
       "    </tr>\n",
       "    <tr>\n",
       "      <th>3</th>\n",
       "      <td>3</td>\n",
       "      <td>41481.575929</td>\n",
       "    </tr>\n",
       "    <tr>\n",
       "      <th>4</th>\n",
       "      <td>4</td>\n",
       "      <td>41707.623301</td>\n",
       "    </tr>\n",
       "    <tr>\n",
       "      <th>5</th>\n",
       "      <td>5</td>\n",
       "      <td>41886.158624</td>\n",
       "    </tr>\n",
       "    <tr>\n",
       "      <th>6</th>\n",
       "      <td>6</td>\n",
       "      <td>42011.221060</td>\n",
       "    </tr>\n",
       "    <tr>\n",
       "      <th>7</th>\n",
       "      <td>7</td>\n",
       "      <td>42085.536156</td>\n",
       "    </tr>\n",
       "    <tr>\n",
       "      <th>8</th>\n",
       "      <td>8</td>\n",
       "      <td>42122.167269</td>\n",
       "    </tr>\n",
       "    <tr>\n",
       "      <th>9</th>\n",
       "      <td>9</td>\n",
       "      <td>42134.624830</td>\n",
       "    </tr>\n",
       "    <tr>\n",
       "      <th>10</th>\n",
       "      <td>10</td>\n",
       "      <td>42132.900382</td>\n",
       "    </tr>\n",
       "    <tr>\n",
       "      <th>11</th>\n",
       "      <td>11</td>\n",
       "      <td>42123.665936</td>\n",
       "    </tr>\n",
       "    <tr>\n",
       "      <th>12</th>\n",
       "      <td>12</td>\n",
       "      <td>42111.029670</td>\n",
       "    </tr>\n",
       "    <tr>\n",
       "      <th>13</th>\n",
       "      <td>13</td>\n",
       "      <td>42097.419510</td>\n",
       "    </tr>\n",
       "    <tr>\n",
       "      <th>14</th>\n",
       "      <td>14</td>\n",
       "      <td>42084.111570</td>\n",
       "    </tr>\n",
       "    <tr>\n",
       "      <th>15</th>\n",
       "      <td>15</td>\n",
       "      <td>42071.742309</td>\n",
       "    </tr>\n",
       "    <tr>\n",
       "      <th>16</th>\n",
       "      <td>16</td>\n",
       "      <td>42060.591705</td>\n",
       "    </tr>\n",
       "    <tr>\n",
       "      <th>17</th>\n",
       "      <td>17</td>\n",
       "      <td>42050.750847</td>\n",
       "    </tr>\n",
       "    <tr>\n",
       "      <th>18</th>\n",
       "      <td>18</td>\n",
       "      <td>42042.211977</td>\n",
       "    </tr>\n",
       "    <tr>\n",
       "      <th>19</th>\n",
       "      <td>19</td>\n",
       "      <td>42034.906709</td>\n",
       "    </tr>\n",
       "    <tr>\n",
       "      <th>20</th>\n",
       "      <td>20</td>\n",
       "      <td>42028.737038</td>\n",
       "    </tr>\n",
       "  </tbody>\n",
       "</table>\n",
       "</div>"
      ],
      "text/plain": [
       "    Overbooking  Max_expected_profit\n",
       "0             0         40654.294288\n",
       "1             1         40942.071301\n",
       "2             2         41221.454999\n",
       "3             3         41481.575929\n",
       "4             4         41707.623301\n",
       "5             5         41886.158624\n",
       "6             6         42011.221060\n",
       "7             7         42085.536156\n",
       "8             8         42122.167269\n",
       "9             9         42134.624830\n",
       "10           10         42132.900382\n",
       "11           11         42123.665936\n",
       "12           12         42111.029670\n",
       "13           13         42097.419510\n",
       "14           14         42084.111570\n",
       "15           15         42071.742309\n",
       "16           16         42060.591705\n",
       "17           17         42050.750847\n",
       "18           18         42042.211977\n",
       "19           19         42034.906709\n",
       "20           20         42028.737038"
      ]
     },
     "execution_count": 8,
     "metadata": {},
     "output_type": "execute_result"
    }
   ],
   "source": [
    "csv_filepath = \"max_expected_profit.csv\"\n",
    "obj_filepath = \"flight_ticket_objects.pkl\"\n",
    "\n",
    "if exists(csv_filepath) and exists(obj_filepath):\n",
    "    # Read solutions for Part-2\n",
    "    df = pd.read_csv(csv_filepath)\n",
    "    \n",
    "    # Read solution objects for Part-2 (Reuse for Part-3)\n",
    "    with open(obj_filepath, 'rb') as inp:\n",
    "        ft_objs = pickle.load(inp)\n",
    "else:\n",
    "    exp_profit = list()\n",
    "    ft_objs = list()\n",
    "    for i in range(0, 21):\n",
    "        ft = FlightTicketPriceOptimizer({'price_coach_low': 300.0,\n",
    "            'price_coach_high': 350.0,\n",
    "            'price_fclass_low': 425.0,\n",
    "            'price_fclass_high': 500.0,\n",
    "            'booking_proba_coach_lowpr': 0.65,\n",
    "            'booking_proba_coach_highpr': 0.3,\n",
    "            'booking_proba_fclass_lowpr': 0.08,\n",
    "            'booking_proba_fclass_highpr': 0.04,\n",
    "            'prob_change_on_fclass_sold': 0.03,\n",
    "            'cost_of_bumping': 50.0,\n",
    "            'cost_of_stipend': 425.0,\n",
    "            'discount': 0.17,\n",
    "            'proba_coach_showing_up': 0.95,\n",
    "            'proba_fclass_showing_up': 0.97,\n",
    "            'n_seats_coach': 100,\n",
    "            'n_seats_fclass': 20,\n",
    "            'overbook_limit': i,\n",
    "            'days_left': 365,\n",
    "            'block_bookings': 0\n",
    "        })\n",
    "\n",
    "        ft.calculate_initial_conditions()\n",
    "        ft.calculate_values()\n",
    "\n",
    "        exp_profit.append([i, ft.V[-1, -1, 0]])\n",
    "        ft_objs.append(ft)\n",
    "\n",
    "    df = pd.DataFrame(exp_profit, columns=[\"Overbooking\", \"Max_expected_profit\"])\n",
    "    df.to_csv(csv_filepath, index=False)\n",
    "    with open(obj_filepath, 'wb') as outp:\n",
    "        pickle.dump(ft_objs, outp, pickle.HIGHEST_PROTOCOL)\n",
    "\n",
    "df"
   ]
  },
  {
   "cell_type": "code",
   "execution_count": 9,
   "metadata": {},
   "outputs": [
    {
     "data": {
      "image/png": "[encoded data removed]",
      "text/plain": [
       "<Figure size 432x288 with 1 Axes>"
      ]
     },
     "metadata": {
      "needs_background": "light"
     },
     "output_type": "display_data"
    }
   ],
   "source": [
    "df.plot(kind='line', x='Overbooking', y='Max_expected_profit', legend=None)\n",
    "plt.ylabel('Maximum Expected Profit')\n",
    "plt.xlabel('Allowed Overbooking')\n",
    "plt.xticks(df.index.values)\n",
    "plt.show()"
   ]
  },
  {
   "cell_type": "code",
   "execution_count": 10,
   "metadata": {},
   "outputs": [
    {
     "data": {
      "text/html": [
       "<div>\n",
       "<style scoped>\n",
       "    .dataframe tbody tr th:only-of-type {\n",
       "        vertical-align: middle;\n",
       "    }\n",
       "\n",
       "    .dataframe tbody tr th {\n",
       "        vertical-align: top;\n",
       "    }\n",
       "\n",
       "    .dataframe thead th {\n",
       "        text-align: right;\n",
       "    }\n",
       "</style>\n",
       "<table border=\"1\" class=\"dataframe\">\n",
       "  <thead>\n",
       "    <tr style=\"text-align: right;\">\n",
       "      <th></th>\n",
       "      <th>Overbooking</th>\n",
       "      <th>Max_expected_profit</th>\n",
       "    </tr>\n",
       "  </thead>\n",
       "  <tbody>\n",
       "    <tr>\n",
       "      <th>9</th>\n",
       "      <td>9</td>\n",
       "      <td>42134.62483</td>\n",
       "    </tr>\n",
       "  </tbody>\n",
       "</table>\n",
       "</div>"
      ],
      "text/plain": [
       "   Overbooking  Max_expected_profit\n",
       "9            9          42134.62483"
      ]
     },
     "execution_count": 10,
     "metadata": {},
     "output_type": "execute_result"
    }
   ],
   "source": [
    "df.iloc[[df['Max_expected_profit'].idxmax()]]"
   ]
  },
  {
   "cell_type": "markdown",
   "metadata": {
    "tags": []
   },
   "source": [
    "## Part-3"
   ]
  },
  {
   "cell_type": "code",
   "execution_count": 11,
   "metadata": {},
   "outputs": [
    {
     "data": {
      "text/html": [
       "<div>\n",
       "<style scoped>\n",
       "    .dataframe tbody tr th:only-of-type {\n",
       "        vertical-align: middle;\n",
       "    }\n",
       "\n",
       "    .dataframe tbody tr th {\n",
       "        vertical-align: top;\n",
       "    }\n",
       "\n",
       "    .dataframe thead th {\n",
       "        text-align: right;\n",
       "    }\n",
       "</style>\n",
       "<table border=\"1\" class=\"dataframe\">\n",
       "  <thead>\n",
       "    <tr style=\"text-align: right;\">\n",
       "      <th></th>\n",
       "      <th>Overbooking</th>\n",
       "      <th>Max_expected_profit</th>\n",
       "    </tr>\n",
       "  </thead>\n",
       "  <tbody>\n",
       "    <tr>\n",
       "      <th>0</th>\n",
       "      <td>0</td>\n",
       "      <td>40654.294288</td>\n",
       "    </tr>\n",
       "    <tr>\n",
       "      <th>1</th>\n",
       "      <td>1</td>\n",
       "      <td>40942.071301</td>\n",
       "    </tr>\n",
       "    <tr>\n",
       "      <th>2</th>\n",
       "      <td>2</td>\n",
       "      <td>41221.454999</td>\n",
       "    </tr>\n",
       "    <tr>\n",
       "      <th>3</th>\n",
       "      <td>3</td>\n",
       "      <td>41481.575929</td>\n",
       "    </tr>\n",
       "    <tr>\n",
       "      <th>4</th>\n",
       "      <td>4</td>\n",
       "      <td>41707.623301</td>\n",
       "    </tr>\n",
       "    <tr>\n",
       "      <th>5</th>\n",
       "      <td>5</td>\n",
       "      <td>41886.158624</td>\n",
       "    </tr>\n",
       "    <tr>\n",
       "      <th>6</th>\n",
       "      <td>6</td>\n",
       "      <td>42011.221060</td>\n",
       "    </tr>\n",
       "    <tr>\n",
       "      <th>7</th>\n",
       "      <td>7</td>\n",
       "      <td>42085.536156</td>\n",
       "    </tr>\n",
       "    <tr>\n",
       "      <th>8</th>\n",
       "      <td>8</td>\n",
       "      <td>42122.167269</td>\n",
       "    </tr>\n",
       "    <tr>\n",
       "      <th>9</th>\n",
       "      <td>9</td>\n",
       "      <td>42134.624830</td>\n",
       "    </tr>\n",
       "    <tr>\n",
       "      <th>10</th>\n",
       "      <td>10</td>\n",
       "      <td>42138.140498</td>\n",
       "    </tr>\n",
       "    <tr>\n",
       "      <th>11</th>\n",
       "      <td>11</td>\n",
       "      <td>42139.327940</td>\n",
       "    </tr>\n",
       "    <tr>\n",
       "      <th>12</th>\n",
       "      <td>12</td>\n",
       "      <td>42139.708945</td>\n",
       "    </tr>\n",
       "    <tr>\n",
       "      <th>13</th>\n",
       "      <td>13</td>\n",
       "      <td>42139.831425</td>\n",
       "    </tr>\n",
       "    <tr>\n",
       "      <th>14</th>\n",
       "      <td>14</td>\n",
       "      <td>42139.872225</td>\n",
       "    </tr>\n",
       "    <tr>\n",
       "      <th>15</th>\n",
       "      <td>15</td>\n",
       "      <td>42139.886081</td>\n",
       "    </tr>\n",
       "    <tr>\n",
       "      <th>16</th>\n",
       "      <td>16</td>\n",
       "      <td>42139.890711</td>\n",
       "    </tr>\n",
       "    <tr>\n",
       "      <th>17</th>\n",
       "      <td>17</td>\n",
       "      <td>42139.892183</td>\n",
       "    </tr>\n",
       "    <tr>\n",
       "      <th>18</th>\n",
       "      <td>18</td>\n",
       "      <td>42139.892617</td>\n",
       "    </tr>\n",
       "    <tr>\n",
       "      <th>19</th>\n",
       "      <td>19</td>\n",
       "      <td>42139.892734</td>\n",
       "    </tr>\n",
       "    <tr>\n",
       "      <th>20</th>\n",
       "      <td>20</td>\n",
       "      <td>42139.892762</td>\n",
       "    </tr>\n",
       "  </tbody>\n",
       "</table>\n",
       "</div>"
      ],
      "text/plain": [
       "    Overbooking  Max_expected_profit\n",
       "0             0         40654.294288\n",
       "1             1         40942.071301\n",
       "2             2         41221.454999\n",
       "3             3         41481.575929\n",
       "4             4         41707.623301\n",
       "5             5         41886.158624\n",
       "6             6         42011.221060\n",
       "7             7         42085.536156\n",
       "8             8         42122.167269\n",
       "9             9         42134.624830\n",
       "10           10         42138.140498\n",
       "11           11         42139.327940\n",
       "12           12         42139.708945\n",
       "13           13         42139.831425\n",
       "14           14         42139.872225\n",
       "15           15         42139.886081\n",
       "16           16         42139.890711\n",
       "17           17         42139.892183\n",
       "18           18         42139.892617\n",
       "19           19         42139.892734\n",
       "20           20         42139.892762"
      ]
     },
     "execution_count": 11,
     "metadata": {},
     "output_type": "execute_result"
    }
   ],
   "source": [
    "csv_filepath2 = \"max_expected_profit_blocking.csv\"\n",
    "\n",
    "if exists(csv_filepath2):\n",
    "    # Read solutions for Part-3\n",
    "    df2 = pd.read_csv(csv_filepath2)\n",
    "else:\n",
    "    exp_profit_blocking = list()\n",
    "    for idx, obj in enumerate(ft_objs):\n",
    "        obj.block_bookings = 1\n",
    "        obj.calculate_values()\n",
    "\n",
    "        exp_profit_blocking.append([idx, obj.V[-1, -1, 0]])\n",
    "\n",
    "    df2 = pd.DataFrame(exp_profit_blocking, columns=[\"Overbooking\", \"Max_expected_profit\"])\n",
    "    df2.to_csv(csv_filepath2, index=False)\n",
    "\n",
    "df2"
   ]
  },
  {
   "cell_type": "code",
   "execution_count": 12,
   "metadata": {},
   "outputs": [
    {
     "data": {
      "image/png": "[encoded data removed]",
      "text/plain": [
       "<Figure size 432x288 with 1 Axes>"
      ]
     },
     "metadata": {
      "needs_background": "light"
     },
     "output_type": "display_data"
    }
   ],
   "source": [
    "df2.plot(kind='line', x='Overbooking', y='Max_expected_profit', legend=None)\n",
    "plt.ylabel('Maximum Expected Profit')\n",
    "plt.xlabel('Allowed Overbooking')\n",
    "plt.xticks(df2.index.values)\n",
    "plt.show()"
   ]
  },
  {
   "cell_type": "code",
   "execution_count": 13,
   "metadata": {},
   "outputs": [
    {
     "data": {
      "text/html": [
       "<div>\n",
       "<style scoped>\n",
       "    .dataframe tbody tr th:only-of-type {\n",
       "        vertical-align: middle;\n",
       "    }\n",
       "\n",
       "    .dataframe tbody tr th {\n",
       "        vertical-align: top;\n",
       "    }\n",
       "\n",
       "    .dataframe thead th {\n",
       "        text-align: right;\n",
       "    }\n",
       "</style>\n",
       "<table border=\"1\" class=\"dataframe\">\n",
       "  <thead>\n",
       "    <tr style=\"text-align: right;\">\n",
       "      <th></th>\n",
       "      <th>Overbooking</th>\n",
       "      <th>Max_expected_profit</th>\n",
       "    </tr>\n",
       "  </thead>\n",
       "  <tbody>\n",
       "    <tr>\n",
       "      <th>20</th>\n",
       "      <td>20</td>\n",
       "      <td>42139.892762</td>\n",
       "    </tr>\n",
       "  </tbody>\n",
       "</table>\n",
       "</div>"
      ],
      "text/plain": [
       "    Overbooking  Max_expected_profit\n",
       "20           20         42139.892762"
      ]
     },
     "execution_count": 13,
     "metadata": {},
     "output_type": "execute_result"
    }
   ],
   "source": [
    "df2.iloc[[df2['Max_expected_profit'].idxmax()]]"
   ]
  },
  {
   "cell_type": "markdown",
   "metadata": {},
   "source": [
    "## Part-4"
   ]
  },
  {
   "cell_type": "markdown",
   "metadata": {},
   "source": [
    "### Without Sale blocking"
   ]
  },
  {
   "cell_type": "code",
   "execution_count": 3,
   "metadata": {},
   "outputs": [],
   "source": [
    "optim_ft_1 = FlightTicketPriceOptimizer({'price_coach_low': 300.0,\n",
    "    'price_coach_high': 350.0,\n",
    "    'price_fclass_low': 425.0,\n",
    "    'price_fclass_high': 500.0,\n",
    "    'booking_proba_coach_lowpr': 0.65,\n",
    "    'booking_proba_coach_highpr': 0.3,\n",
    "    'booking_proba_fclass_lowpr': 0.08,\n",
    "    'booking_proba_fclass_highpr': 0.04,\n",
    "    'prob_change_on_fclass_sold': 0.03,\n",
    "    'cost_of_bumping': 50.0,\n",
    "    'cost_of_stipend': 425.0,\n",
    "    'discount': 0.17,\n",
    "    'proba_coach_showing_up': 0.95,\n",
    "    'proba_fclass_showing_up': 0.97,\n",
    "    'n_seats_coach': 100,\n",
    "    'n_seats_fclass': 20,\n",
    "    'overbook_limit': 9,\n",
    "    'days_left': 365,\n",
    "    'block_bookings': 0\n",
    "})"
   ]
  },
  {
   "cell_type": "code",
   "execution_count": 4,
   "metadata": {},
   "outputs": [],
   "source": [
    "optim_ft_1.calculate_initial_conditions()\n",
    "optim_ft_1.calculate_values()"
   ]
  },
  {
   "cell_type": "code",
   "execution_count": 5,
   "metadata": {},
   "outputs": [
    {
     "data": {
      "text/plain": [
       "(0, 0, 0, 0, -358.5717378777274)"
      ]
     },
     "execution_count": 5,
     "metadata": {},
     "output_type": "execute_result"
    }
   ],
   "source": [
    "optim_ft_1.simulate_day(0,0,365)"
   ]
  },
  {
   "cell_type": "code",
   "execution_count": 6,
   "metadata": {},
   "outputs": [
    {
     "data": {
      "text/plain": [
       "366"
      ]
     },
     "execution_count": 6,
     "metadata": {},
     "output_type": "execute_result"
    }
   ],
   "source": [
    "optim_ft_1.tN"
   ]
  },
  {
   "cell_type": "code",
   "execution_count": 7,
   "metadata": {},
   "outputs": [],
   "source": [
    "fc_seats = optim_ft_1.s1N-1\n",
    "coach_seats = optim_ft_1.s2N-1\n",
    "fc_seat_vec = list()\n",
    "coach_seat_vec = list()\n",
    "val_vec = list()\n",
    "total_val = 0\n",
    "\n",
    "for t in range(optim_ft_1.tN):\n",
    "    fc_price, fc_sale, coach_price, coach_sale, discounted_val_today = optim_ft_1.simulate_day(fc_seats, coach_seats, t)\n",
    "    \n",
    "    # Update the states, and store results of the simulated day\n",
    "    fc_seats -= fc_sale\n",
    "    coach_seats -= coach_sale\n",
    "    total_val += discounted_val_today\n",
    "    \n",
    "    fc_seat_vec.append(fc_seats)\n",
    "    coach_seat_vec.append(coach_seats)\n",
    "    val_vec.append(total_val)"
   ]
  },
  {
   "cell_type": "code",
   "execution_count": 8,
   "metadata": {},
   "outputs": [
    {
     "data": {
      "image/png": "[encoded data removed]",
      "text/plain": [
       "<Figure size 576x1080 with 3 Axes>"
      ]
     },
     "metadata": {
      "needs_background": "light"
     },
     "output_type": "display_data"
    }
   ],
   "source": [
    "df_plot_1 = pd.DataFrame(np.array([range(optim_ft_1.tN), fc_seat_vec, coach_seat_vec, val_vec]).T, columns=[\"Day\", \"fc_seats_remaining\", \"coach_seats_remaining\", \"value\"])\n",
    "fig, (ax1, ax2, ax3) = plt.subplots(nrows=3, sharex=True, figsize=(8, 15))\n",
    "\n",
    "plt.suptitle('A simulation of the policy where Sale blocking is not allowed (overbooking=9)', y=0.92)\n",
    "\n",
    "df_plot_1.plot(ax=ax1, kind='line', x='Day', y='fc_seats_remaining', color=\"#00ff7f\", legend=None)\n",
    "ax1.set_ylabel('First Class Seats remaining')\n",
    "\n",
    "df_plot_1.plot(ax=ax2, kind='line', x='Day', y='coach_seats_remaining', color=\"#007fff\", legend=None)\n",
    "ax2.set_ylabel('Coach Seats remaining')\n",
    "\n",
    "df_plot_1.plot(ax=ax3, kind='line', x='Day', y='value', color=\"#007f7f\", legend=None)\n",
    "ax3.set_ylabel('Value Generated')\n",
    "ax3.set_xlabel('Day #')\n",
    "plt.show()"
   ]
  },
  {
   "cell_type": "code",
   "execution_count": 12,
   "metadata": {},
   "outputs": [],
   "source": [
    "total_vals_1 = list()\n",
    "costs = list()\n",
    "for i in range(20000):\n",
    "    total_val = 0\n",
    "    fc_seats = optim_ft_1.s1N-1\n",
    "    coach_seats = optim_ft_1.s2N-1\n",
    "    \n",
    "    for t in range(optim_ft_1.tN):\n",
    "        fc_price, fc_sale, coach_price, coach_sale, discounted_val_today = optim_ft_1.simulate_day(fc_seats, coach_seats, t)\n",
    "        \n",
    "        # Update the states\n",
    "        fc_seats = fc_seats - fc_sale\n",
    "        coach_seats -= coach_sale\n",
    "        total_val += discounted_val_today\n",
    "    total_vals_1.append(total_val)\n",
    "total_vals_1 = pd.Series(total_vals_1)"
   ]
  },
  {
   "cell_type": "code",
   "execution_count": 13,
   "metadata": {},
   "outputs": [
    {
     "data": {
      "text/plain": [
       "<AxesSubplot:>"
      ]
     },
     "execution_count": 13,
     "metadata": {},
     "output_type": "execute_result"
    },
    {
     "data": {
      "image/png": "[encoded data removed]",
      "text/plain": [
       "<Figure size 432x288 with 1 Axes>"
      ]
     },
     "metadata": {
      "needs_background": "light"
     },
     "output_type": "display_data"
    }
   ],
   "source": [
    "total_vals_1.hist(bins=50)"
   ]
  },
  {
   "cell_type": "code",
   "execution_count": 14,
   "metadata": {},
   "outputs": [
    {
     "data": {
      "text/plain": [
       "count    20000.000000\n",
       "mean     42139.331064\n",
       "std        931.837130\n",
       "min      37611.230876\n",
       "25%      41520.236449\n",
       "50%      42151.219232\n",
       "75%      42802.076914\n",
       "max      44749.819391\n",
       "dtype: float64"
      ]
     },
     "execution_count": 14,
     "metadata": {},
     "output_type": "execute_result"
    }
   ],
   "source": [
    "total_vals_1.describe()"
   ]
  },
  {
   "cell_type": "markdown",
   "metadata": {},
   "source": [
    "### With Sale blocking"
   ]
  },
  {
   "cell_type": "code",
   "execution_count": 15,
   "metadata": {},
   "outputs": [],
   "source": [
    "optim_ft_2 = FlightTicketPriceOptimizer({'price_coach_low': 300.0,\n",
    "    'price_coach_high': 350.0,\n",
    "    'price_fclass_low': 425.0,\n",
    "    'price_fclass_high': 500.0,\n",
    "    'booking_proba_coach_lowpr': 0.65,\n",
    "    'booking_proba_coach_highpr': 0.3,\n",
    "    'booking_proba_fclass_lowpr': 0.08,\n",
    "    'booking_proba_fclass_highpr': 0.04,\n",
    "    'prob_change_on_fclass_sold': 0.03,\n",
    "    'cost_of_bumping': 50.0,\n",
    "    'cost_of_stipend': 425.0,\n",
    "    'discount': 0.17,\n",
    "    'proba_coach_showing_up': 0.95,\n",
    "    'proba_fclass_showing_up': 0.97,\n",
    "    'n_seats_coach': 100,\n",
    "    'n_seats_fclass': 20,\n",
    "    'overbook_limit': 20,\n",
    "    'days_left': 365,\n",
    "    'block_bookings': 1\n",
    "})"
   ]
  },
  {
   "cell_type": "code",
   "execution_count": 16,
   "metadata": {},
   "outputs": [],
   "source": [
    "optim_ft_2.calculate_initial_conditions()\n",
    "optim_ft_2.calculate_values()"
   ]
  },
  {
   "cell_type": "code",
   "execution_count": 17,
   "metadata": {},
   "outputs": [],
   "source": [
    "fc_seats = optim_ft_2.s1N-1\n",
    "coach_seats = optim_ft_2.s2N-1\n",
    "fc_seat_vec = list()\n",
    "coach_seat_vec = list()\n",
    "val_vec = list()\n",
    "total_val = 0\n",
    "\n",
    "for t in range(optim_ft_2.tN):\n",
    "    fc_price, fc_sale, coach_price, coach_sale, discounted_val_today = optim_ft_2.simulate_day(fc_seats, coach_seats, t)\n",
    "\n",
    "    # Update the states, and store results of the simulated day\n",
    "    fc_seats = fc_seats - fc_sale\n",
    "    coach_seats -= coach_sale\n",
    "    total_val += discounted_val_today\n",
    "    \n",
    "    fc_seat_vec.append(fc_seats)\n",
    "    coach_seat_vec.append(coach_seats)\n",
    "    val_vec.append(total_val)"
   ]
  },
  {
   "cell_type": "code",
   "execution_count": 18,
   "metadata": {},
   "outputs": [
    {
     "data": {
      "image/png": "[encoded data removed]",
      "text/plain": [
       "<Figure size 576x1080 with 3 Axes>"
      ]
     },
     "metadata": {
      "needs_background": "light"
     },
     "output_type": "display_data"
    }
   ],
   "source": [
    "df_plot_2 = pd.DataFrame(np.array([range(optim_ft_2.tN), fc_seat_vec, coach_seat_vec, val_vec]).T, columns=[\"Day\", \"fc_seats_remaining\", \"coach_seats_remaining\", \"value\"])\n",
    "fig, (ax1, ax2, ax3) = plt.subplots(nrows=3, sharex=True, figsize=(8, 15))\n",
    "\n",
    "plt.suptitle('A simulation of the policy where Sale blocking is allowed (overbooking=20)', y=0.92)\n",
    "\n",
    "df_plot_1.plot(ax=ax1, kind='line', x='Day', y='fc_seats_remaining', color=\"#00ff7f\", legend=None)\n",
    "ax1.set_ylabel('First Class Seats remaining')\n",
    "\n",
    "df_plot_1.plot(ax=ax2, kind='line', x='Day', y='coach_seats_remaining', color=\"#007fff\", legend=None)\n",
    "ax2.set_ylabel('Coach Seats remaining')\n",
    "\n",
    "df_plot_1.plot(ax=ax3, kind='line', x='Day', y='value', color=\"#007f7f\", legend=None)\n",
    "ax3.set_ylabel('Value generated')\n",
    "ax3.set_xlabel('Day #')\n",
    "plt.show()"
   ]
  },
  {
   "cell_type": "code",
   "execution_count": 19,
   "metadata": {},
   "outputs": [],
   "source": [
    "total_vals_2 = list()\n",
    "costs = list()\n",
    "for i in range(10000):\n",
    "    total_val = 0\n",
    "    fc_seats = optim_ft_2.s1N-1\n",
    "    coach_seats = optim_ft_2.s2N-1\n",
    "    \n",
    "    for t in range(optim_ft_2.tN):\n",
    "        fc_price, fc_sale, coach_price, coach_sale, discounted_val_today = optim_ft_2.simulate_day(fc_seats, coach_seats, t)\n",
    "        \n",
    "        # Update the states\n",
    "        fc_seats = fc_seats - fc_sale\n",
    "        coach_seats -= coach_sale\n",
    "        total_val += discounted_val_today\n",
    "    total_vals_2.append(total_val)\n",
    "total_vals_2 = pd.Series(total_vals_2)"
   ]
  },
  {
   "cell_type": "code",
   "execution_count": 20,
   "metadata": {},
   "outputs": [
    {
     "data": {
      "text/plain": [
       "<AxesSubplot:>"
      ]
     },
     "execution_count": 20,
     "metadata": {},
     "output_type": "execute_result"
    },
    {
     "data": {
      "image/png": "[encoded data removed]",
      "text/plain": [
       "<Figure size 432x288 with 1 Axes>"
      ]
     },
     "metadata": {
      "needs_background": "light"
     },
     "output_type": "display_data"
    }
   ],
   "source": [
    "total_vals_2.hist(bins=50)"
   ]
  },
  {
   "cell_type": "code",
   "execution_count": 21,
   "metadata": {},
   "outputs": [
    {
     "data": {
      "text/plain": [
       "count    10000.000000\n",
       "mean     42131.331962\n",
       "std        939.986108\n",
       "min      38397.790442\n",
       "25%      41494.535067\n",
       "50%      42150.499323\n",
       "75%      42784.341020\n",
       "max      44870.898325\n",
       "dtype: float64"
      ]
     },
     "execution_count": 21,
     "metadata": {},
     "output_type": "execute_result"
    }
   ],
   "source": [
    "total_vals_2.describe()"
   ]
  },
  {
   "cell_type": "code",
   "execution_count": null,
   "metadata": {},
   "outputs": [],
   "source": []
  }
 ],
 "metadata": {
  "kernelspec": {
   "display_name": "Python 3 (ipykernel)",
   "language": "python",
   "name": "python3"
  },
  "language_info": {
   "codemirror_mode": {
    "name": "ipython",
    "version": 3
   },
   "file_extension": ".py",
   "mimetype": "text/x-python",
   "name": "python",
   "nbconvert_exporter": "python",
   "pygments_lexer": "ipython3",
   "version": "3.10.5"
  }
 },
 "nbformat": 4,
 "nbformat_minor": 4
}
