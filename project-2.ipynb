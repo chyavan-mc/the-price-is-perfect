{
 "cells": [
  {
   "attachments": {},
   "cell_type": "markdown",
   "metadata": {},
   "source": [
    "## Imports Required"
   ]
  },
  {
   "cell_type": "code",
   "execution_count": null,
   "metadata": {},
   "outputs": [],
   "source": [
    "import numpy as np\n",
    "import matplotlib.pyplot as plt\n",
    "from scipy.stats import binom\n",
    "from mpl_toolkits.mplot3d import Axes3D\n",
    "%matplotlib inline"
   ]
  },
  {
   "attachments": {},
   "cell_type": "markdown",
   "metadata": {},
   "source": [
    "## Class"
   ]
  },
  {
   "cell_type": "code",
   "execution_count": null,
   "metadata": {},
   "outputs": [],
   "source": [
    "class FlightTicket:\n",
    "    def __init__(self):\n",
    "        self.parameter_template = {\n",
    "            \"price_coach_low\": { \"dtype\": float, \"prompt\": \"Coach lower ticket price\"},\n",
    "            \"price_coach_high\": { \"dtype\": float, \"prompt\": \"Coach higher ticket price\"},\n",
    "            \"price_fclass_low\": { \"dtype\": float, \"prompt\": \"First class lower ticket price\"},\n",
    "            \"price_fclass_high\": { \"dtype\": float, \"prompt\": \"First class lower ticket price\"},\n",
    "            \"booking_proba_coach_lowpr\": { \"dtype\": float, \"prompt\": \"Probability of booking for coach at lower price\"},\n",
    "            \"booking_proba_coach_highpr\": { \"dtype\": float, \"prompt\": \"Probability of booking for coach at higher price\"},\n",
    "            \"booking_proba_fclass_lowpr\": { \"dtype\": float, \"prompt\": \"Probability of booking for first class at lower price\"},\n",
    "            \"booking_proba_fclass_highpr\": { \"dtype\": float, \"prompt\": \"Probability of booking for first class at higher price\"},\n",
    "            \"prob_change_on_fclass_sold\": { \"dtype\": float, \"prompt\": \"Change in coach probability when first class is sold out\"},\n",
    "            \"cost_of_bumping\": { \"dtype\": float, \"prompt\": \"Cost of bumping passenger to first class\"},\n",
    "            \"cost_of_stipend\": { \"dtype\": float, \"prompt\": \"Cost of bumping passenger off the plane\"},\n",
    "            \"discount\": { \"dtype\": float, \"prompt\": \"Annual Discount rate (as decimal)\"},\n",
    "            \"proba_coach_showing_up\": { \"dtype\": float, \"prompt\": \"Probability of coach passenger showing up\"},\n",
    "            \"proba_fclass_showing_up\": { \"dtype\": float, \"prompt\": \"Probability of first class passenger showing up\"},\n",
    "            \"n_seats_coach\": { \"dtype\": int, \"prompt\": \"Number of seats in coach\"},\n",
    "            \"n_seats_fclass\": { \"dtype\": int, \"prompt\": \"Number of seats in first class\"},\n",
    "            \"overbook_limit\": { \"dtype\": int, \"prompt\": \"Allowed overbooking limit\"},\n",
    "            \"days_left\": { \"dtype\": int, \"prompt\": \"Days left until departure\"}\n",
    "        }\n",
    "\n",
    "        self.solved = False\n",
    "        self.U = None\n",
    "        self.V = None\n",
    "\n",
    "    def get_parameter_template(self):\n",
    "        return self.parameter_template\n",
    "    \n",
    "    def set_parameters(self, param: dict):\n",
    "        for key in param.keys():\n",
    "            assert key in self.parameter_template.keys()\n",
    "\n",
    "        for key in self.parameter_template.keys():\n",
    "            assert key in param.keys()\n",
    "        \n",
    "        for key in param.keys():\n",
    "            setattr(self, key, param[key])\n",
    "\n",
    "        self.price_coach = [self.price_coach_low, self.price_coach_high]\n",
    "        self.price_fclass = [self.price_fclass_low, self.price_fclass_high]\n",
    "\n",
    "        self.prob_coach = [self.booking_proba_coach_lowpr, self.booking_proba_coach_highpr]\n",
    "        self.prob_fclass = [self.booking_proba_fclass_lowpr, self.booking_proba_fclass_highpr]\n",
    "        self.prob_coach_fsold = [x + self.prob_change_on_fclass_sold for x in self.prob_coach]\n",
    "        \n",
    "        self.delta = 1/(1+(self.discount/365))\n",
    "        self.seats_coach_eff = self.n_seats_coach + self.overbook_limit\n",
    "\n",
    "        self.s1N = self.n_seats_fclass+1\n",
    "        self.s2N = self.seats_coach_eff+1\n",
    "        self.tN = self.days_left+1\n",
    "\n",
    "        self.V = np.zeros((self.s1N, self.s2N, self.tN))\n",
    "        self.U = np.array([[['#00000080']*self.tN]*self.s2N]*self.s1N)\n",
    "\n",
    "    def calculate_initial_conditions(self):\n",
    "        for s1 in range(self.s1N):\n",
    "            for s2 in range(self.s2N):\n",
    "                self.V[s1, s2, self.tN-1] = -self.__expected_cost__(self.n_seats_fclass-s1, self.seats_coach_eff-s2)\n",
    "\n",
    "    def calculate_values(self):\n",
    "        for t in reversed(range(self.tN-1)):\n",
    "            for s1 in range(self.s1N):\n",
    "                for s2 in range(self.s2N):\n",
    "                    if s1 == 0 and s2 == 0:\n",
    "                        self.V[s1, s2, t] = self.delta*self.V[s1, s2, t+1]\n",
    "                    else:\n",
    "                        prob_coach_eff = self.prob_coach if s1 != 0 else self.prob_coach_fsold\n",
    "                        prob_fclass_eff = self.prob_fclass if s1 != 0 else [0, 0]\n",
    "                        prob_coach_eff = prob_coach_eff if s2 != 0 else [0, 0]\n",
    "                        \n",
    "                        values = list()\n",
    "                        for x1 in range(1,-1,-1):\n",
    "                            for x2 in range(1, -1, -1):\n",
    "                                value = self.price_coach[x1]*prob_coach_eff[x1] + self.price_fclass[x2]*prob_fclass_eff[x2] + self.delta*(\n",
    "                                    prob_coach_eff[x1]*prob_fclass_eff[x2]*self.V[max(s1-1, 0), max(s2-1,0), t+1] + \\\n",
    "                                    prob_coach_eff[x1]*(1-prob_fclass_eff[x2])*self.V[s1, max(s2-1,0), t+1] + \\\n",
    "                                    (1-prob_coach_eff[x1])*prob_fclass_eff[x2]*self.V[max(s1-1, 0), s2, t+1] + \\\n",
    "                                    (1-prob_coach_eff[x1])*(1-prob_fclass_eff[x2])*self.V[s1, s2, t+1]\n",
    "                                )\n",
    "                                values.append(value)\n",
    "\n",
    "                        # values[0] -> Coach High,  Fclass High\n",
    "                        # values[1] -> Coach High,  Fclass Low\n",
    "                        # values[2] -> Coach Low,   Fclass High\n",
    "                        # values[3] -> Coach Low,   Fclass Low\n",
    "\n",
    "                        self.V[s1, s2, t] = max(values)\n",
    "\n",
    "                        tmp = np.argmax(values)\n",
    "                        rgb = [0,0,0]\n",
    "                        # Set the green pixel intensity based on Fclass price - 255 for high price, 127 for low price\n",
    "                        if s1:\n",
    "                            rgb[1] = ((int(tmp == 0 or tmp == 2) + 1)*128)-1\n",
    "                        \n",
    "                        # Set the blue pixel intensity based on coach price - 255 for high price, 127 for low price\n",
    "                        if s2:\n",
    "                            rgb[2] = ((int(tmp == 0 or tmp == 1) + 1)*128)-1\n",
    "\n",
    "                        self.U[s1, s2, t] = self.__rgb_to_hex__(tuple(rgb))\n",
    "        self.solved = True\n",
    "\n",
    "    def get_solution(self):\n",
    "        assert self.solved\n",
    "        return self.V, self.U\n",
    "    \n",
    "    def __cost_if__(self, fclass_show, coach_show):\n",
    "        \"\"\"\n",
    "        Calculate the cost if exactly\n",
    "            - `fclass_show` number of people show up for the first class\n",
    "            - `coach_show` number of people show up for the Coach class\n",
    "        \"\"\"\n",
    "        cost = 0\n",
    "        f_class_free_seats = self.n_seats_fclass - fclass_show\n",
    "        assert f_class_free_seats >= 0\n",
    "\n",
    "        stipend_customers = max(0, coach_show - self.n_seats_coach)\n",
    "        assert stipend_customers >= 0\n",
    "\n",
    "        if stipend_customers == 0:\n",
    "            return 0\n",
    "        if stipend_customers < f_class_free_seats:\n",
    "            return stipend_customers*self.cost_of_bumping\n",
    "        return f_class_free_seats*self.cost_of_bumping + (stipend_customers-f_class_free_seats)*self.cost_of_stipend\n",
    "\n",
    "    def __expected_cost__(self, fclass_booked, coach_booked):\n",
    "        \"\"\"\n",
    "        Calculate the expected cost if\n",
    "            - `fclass_booked` number of people have booked the First class ticket\n",
    "            - `coach_booked` number of people have booked the Coach ticket\n",
    "        \"\"\"\n",
    "        cost = 0\n",
    "        bin_prob_fclass = binom(fclass_booked, self.proba_fclass_showing_up)\n",
    "        bin_prob_coach = binom(coach_booked, self.proba_coach_showing_up)\n",
    "        for f in range(fclass_booked+1):\n",
    "            for c in range(coach_booked+1):\n",
    "                cost += bin_prob_coach.pmf(c)*bin_prob_fclass.pmf(f)*self.__cost_if__(f, c)\n",
    "        return cost\n",
    "    \n",
    "    def __rgb_to_hex__(self, rgb):\n",
    "        return '#%02x%02x%02x80' % rgb"
   ]
  },
  {
   "cell_type": "code",
   "execution_count": null,
   "metadata": {},
   "outputs": [],
   "source": [
    "ft = FlightTicket()\n",
    "\n",
    "param_template = ft.get_parameter_template()\n",
    "for param in param_template.keys():\n",
    "    ip = input(f\"{param_template[param]['prompt']}: \")\n",
    "    ip = param_template[param]['dtype'](ip)\n",
    "    param_template[param] = ip\n",
    "\n",
    "param_template"
   ]
  },
  {
   "cell_type": "code",
   "execution_count": null,
   "metadata": {},
   "outputs": [],
   "source": [
    "ft.set_parameters(param_template)"
   ]
  },
  {
   "cell_type": "code",
   "execution_count": null,
   "metadata": {},
   "outputs": [],
   "source": [
    "ft.calculate_initial_conditions()"
   ]
  },
  {
   "cell_type": "code",
   "execution_count": null,
   "metadata": {},
   "outputs": [],
   "source": [
    "ft.calculate_values()"
   ]
  },
  {
   "cell_type": "code",
   "execution_count": null,
   "metadata": {},
   "outputs": [],
   "source": [
    "ft.V[-1, -1, 0]"
   ]
  },
  {
   "cell_type": "code",
   "execution_count": null,
   "metadata": {},
   "outputs": [],
   "source": [
    "ft.V[:,:,-1].min()"
   ]
  },
  {
   "attachments": {},
   "cell_type": "markdown",
   "metadata": {},
   "source": [
    "## Manual"
   ]
  },
  {
   "cell_type": "code",
   "execution_count": null,
   "metadata": {},
   "outputs": [],
   "source": [
    "price_coach = [300, 350]                                    # Pc\n",
    "price_fclass = [425, 500]                                   # Pf\n",
    "\n",
    "prob_coach = [0.65, 0.30]                                   # Prc\n",
    "prob_fclass = [0.08, 0.04]                                  # Prf\n",
    "prob_increase = 0.03\n",
    "\n",
    "cost_bump = 50                                              # Cb\n",
    "cost_stipend = 425                                          # Cs\n",
    "discount = 0.17\n",
    "\n",
    "prob_show_coach = 0.95\n",
    "prob_show_fclass = 0.97\n",
    "\n",
    "seats_coach = 100\n",
    "seats_fclass = 20\n",
    "\n",
    "oversell = 5\n",
    "\n",
    "days_left = 365"
   ]
  },
  {
   "cell_type": "code",
   "execution_count": null,
   "metadata": {},
   "outputs": [],
   "source": [
    "delta = 1/(1+(discount/365))                                # d\n",
    "prob_coach_fsold = [x + prob_increase for x in prob_coach]     # Prc*\n",
    "seats_coach_eff = seats_coach + oversell"
   ]
  },
  {
   "cell_type": "code",
   "execution_count": null,
   "metadata": {},
   "outputs": [],
   "source": [
    "s1Values = np.arange(seats_fclass+1)\n",
    "s2Values = np.arange(seats_coach_eff+1)\n",
    "tValues = np.arange(days_left+1)\n",
    "s1N = len(s1Values)\n",
    "s2N = len(s2Values)\n",
    "tN = len(tValues)"
   ]
  },
  {
   "cell_type": "code",
   "execution_count": null,
   "metadata": {},
   "outputs": [],
   "source": [
    "V = np.zeros((s1N, s2N, tN))\n",
    "U = np.array([[['#00000080']*tN]*s2N]*s1N)"
   ]
  },
  {
   "cell_type": "code",
   "execution_count": null,
   "metadata": {},
   "outputs": [],
   "source": [
    "def cost_if(fclass_show, coach_show):\n",
    "    \"\"\"\n",
    "    Calculate the cost if exactly\n",
    "        - `fclass_show` number of people show up for the first class\n",
    "        - `coach_show` number of people show up for the Coach class\n",
    "    \"\"\"\n",
    "    cost = 0\n",
    "    f_class_free_seats = seats_fclass - fclass_show\n",
    "    assert f_class_free_seats >= 0\n",
    "\n",
    "    trouble_customers = max(0, coach_show - seats_coach)\n",
    "    assert trouble_customers >= 0\n",
    "\n",
    "    if trouble_customers == 0:\n",
    "        return 0\n",
    "    if trouble_customers < f_class_free_seats:\n",
    "        return trouble_customers*cost_bump\n",
    "    return f_class_free_seats*cost_bump + (trouble_customers-f_class_free_seats)*cost_stipend\n",
    "\n",
    "def expected_cost(fclass_booked, coach_booked):\n",
    "    \"\"\"\n",
    "    Calculate the expected cost if\n",
    "        - `fclass_booked` number of people have booked the First class ticket\n",
    "        - `coach_booked` number of people have booked the Coach ticket\n",
    "    \"\"\"\n",
    "    cost = 0\n",
    "    bin_prob_fclass = binom(fclass_booked, prob_show_fclass)\n",
    "    bin_prob_coach = binom(coach_booked, prob_show_coach)\n",
    "    for f in range(fclass_booked+1):\n",
    "        for c in range(coach_booked+1):\n",
    "            cost += bin_prob_coach.pmf(c)*bin_prob_fclass.pmf(f)*cost_if(f, c)\n",
    "    return cost"
   ]
  },
  {
   "cell_type": "code",
   "execution_count": null,
   "metadata": {},
   "outputs": [],
   "source": [
    "expected_cost(20, 101)"
   ]
  },
  {
   "cell_type": "code",
   "execution_count": null,
   "metadata": {},
   "outputs": [],
   "source": [
    "for s1 in range(s1N):\n",
    "    for s2 in range(s2N):\n",
    "        V[s1, s2, tN-1] = -expected_cost(seats_fclass-s1,seats_coach_eff-s2)"
   ]
  },
  {
   "cell_type": "code",
   "execution_count": null,
   "metadata": {},
   "outputs": [],
   "source": [
    "np.equal(V, ft.V)"
   ]
  },
  {
   "cell_type": "code",
   "execution_count": null,
   "metadata": {},
   "outputs": [],
   "source": [
    "def rgb_to_hex(rgb):\n",
    "    return '#%02x%02x%02x80' % rgb"
   ]
  },
  {
   "cell_type": "code",
   "execution_count": null,
   "metadata": {},
   "outputs": [],
   "source": [
    "for t in reversed(range(tN-1)):\n",
    "    for s1 in range(s1N):\n",
    "        for s2 in range(s2N):\n",
    "            if s1 == 0 and s2 == 0:\n",
    "                V[s1, s2, t] = delta*V[s1, s2, t+1]\n",
    "            else:\n",
    "                prob_coach_eff = prob_coach if s1 != 0 else prob_coach_fsold\n",
    "                prob_fclass_eff = prob_fclass if s1 != 0 else [0, 0]\n",
    "                prob_coach_eff = prob_coach_eff if s2 != 0 else [0, 0]\n",
    "                \n",
    "                values = list()\n",
    "                for x1 in range(1,-1,-1):\n",
    "                    for x2 in range(1, -1, -1):\n",
    "                        value = price_coach[x1]*prob_coach_eff[x1] + price_fclass[x2]*prob_fclass_eff[x2] + delta*(\n",
    "                            prob_coach_eff[x1]*prob_fclass_eff[x2]*V[max(s1-1, 0), max(s2-1,0), t+1] + \\\n",
    "                            prob_coach_eff[x1]*(1-prob_fclass_eff[x2])*V[s1, max(s2-1,0), t+1] + \\\n",
    "                            (1-prob_coach_eff[x1])*prob_fclass_eff[x2]*V[max(s1-1, 0), s2, t+1] + \\\n",
    "                            (1-prob_coach_eff[x1])*(1-prob_fclass_eff[x2])*V[s1, s2, t+1]\n",
    "                        )\n",
    "                        values.append(value)\n",
    "\n",
    "                # values[0] -> Coach High,  Fclass High\n",
    "                # values[1] -> Coach High,  Fclass Low\n",
    "                # values[2] -> Coach Low,   Fclass High\n",
    "                # values[3] -> Coach Low,   Fclass Low\n",
    "\n",
    "                V[s1, s2, t] = max(values)\n",
    "                tmp = np.argmax(values)\n",
    "\n",
    "                rgb = [0,0,0]\n",
    "\n",
    "                # Set the green pixel intensity based on Fclass price - 255 for high price, 127 for low price\n",
    "                if s1:\n",
    "                    rgb[1] = ((int(tmp == 0 or tmp == 2) + 1)*128)-1\n",
    "                \n",
    "                # Set the blue pixel intensity based on coach price - 255 for high price, 127 for low price\n",
    "                if s2:\n",
    "                    rgb[2] = ((int(tmp == 0 or tmp == 1) + 1)*128)-1\n",
    "\n",
    "                U[s1, s2, t] = rgb_to_hex(tuple(rgb))"
   ]
  },
  {
   "cell_type": "code",
   "execution_count": null,
   "metadata": {},
   "outputs": [],
   "source": [
    "V[-1, -1, 0]"
   ]
  },
  {
   "attachments": {},
   "cell_type": "markdown",
   "metadata": {},
   "source": [
    "### Plotting 3d"
   ]
  },
  {
   "cell_type": "code",
   "execution_count": null,
   "metadata": {},
   "outputs": [],
   "source": [
    "def make_ax(grid=False):\n",
    "    fig = plt.figure()\n",
    "    ax = fig.gca(projection='3d', adjustable='box')\n",
    "    ax.set_xlabel(\"FC_sold\")\n",
    "    ax.set_ylabel(\"Coach_sold\")\n",
    "    ax.set_zlabel(\"Time\")\n",
    "    ax.grid(grid)\n",
    "    return ax\n",
    "\n",
    "def set_axes_equal(ax: plt.Axes):\n",
    "    limits = np.array([\n",
    "        ax.get_xlim3d(),\n",
    "        ax.get_ylim3d(),\n",
    "        ax.get_zlim3d(),\n",
    "    ])\n",
    "    origin = np.mean(limits, axis=1)\n",
    "    radius = 0.5 * np.max(np.abs(limits[:, 1] - limits[:, 0]))\n",
    "    _set_axes_radius(ax, origin, radius)\n",
    "\n",
    "def _set_axes_radius(ax, origin, radius):\n",
    "    x, y, z = origin\n",
    "    ax.set_xlim3d([x - radius, x + radius])\n",
    "    ax.set_ylim3d([y - radius, y + radius])\n",
    "    ax.set_zlim3d([z - radius, z + radius])"
   ]
  },
  {
   "cell_type": "code",
   "execution_count": null,
   "metadata": {},
   "outputs": [],
   "source": [
    "ax = make_ax(True)\n",
    "ax.voxels(np.ones(U.shape), facecolors=U, shade=False)\n",
    "# ax.set_box_aspect([1,1,1])\n",
    "# set_axes_equal(ax)\n",
    "plt.show()"
   ]
  },
  {
   "cell_type": "code",
   "execution_count": null,
   "metadata": {},
   "outputs": [],
   "source": []
  }
 ],
 "metadata": {
  "kernelspec": {
   "display_name": "Python 3",
   "language": "python",
   "name": "python3"
  },
  "language_info": {
   "codemirror_mode": {
    "name": "ipython",
    "version": 3
   },
   "file_extension": ".py",
   "mimetype": "text/x-python",
   "name": "python",
   "nbconvert_exporter": "python",
   "pygments_lexer": "ipython3",
   "version": "3.10.5"
  },
  "orig_nbformat": 4
 },
 "nbformat": 4,
 "nbformat_minor": 2
}
